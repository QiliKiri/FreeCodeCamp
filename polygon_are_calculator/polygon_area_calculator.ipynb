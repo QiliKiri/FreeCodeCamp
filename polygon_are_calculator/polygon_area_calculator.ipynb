{
 "cells": [
  {
   "cell_type": "code",
   "execution_count": 1,
   "id": "052e0554-7905-40c8-abf2-b1e30daa018b",
   "metadata": {},
   "outputs": [],
   "source": [
    "class Rectangle():\n",
    "    def __init__(self, width, height):\n",
    "        self.width = width\n",
    "        self.height = height\n",
    "        \n",
    "    def set_width(self, width):\n",
    "        self.width = width\n",
    "        \n",
    "    def set_height(self, height):\n",
    "        self.height = height\n",
    "        \n",
    "    def get_area(self):\n",
    "        return self.width * self.height\n",
    "    \n",
    "    def get_perimeter(self):\n",
    "        return (self.width + self.height) * 2\n",
    "    \n",
    "    def get_diagonal(self):\n",
    "        return (self.width**2 + self.height**2)**0.5\n",
    "    \n",
    "    def get_picture(self):\n",
    "        if self.width > 50 or self.height > 50:\n",
    "            return 'Too big for picture.'\n",
    "        form = ''\n",
    "        for rows in range(self.height):\n",
    "            form += '*' * self.width + '\\n'\n",
    "            \n",
    "        return form\n",
    "    \n",
    "    def get_amount_inside(self, other):\n",
    "        h_count = 0\n",
    "        w_count = 0\n",
    "        if self.height >= other.height:\n",
    "            h_count = self.height // other.height\n",
    "        if self.width >= other.width:\n",
    "            w_count = self.width // other.width\n",
    "            \n",
    "        return h_count * w_count\n",
    "    \n",
    "    def __str__(self):\n",
    "        return f'Rectangle(width={self.width}, height={self.height})'\n",
    "    "
   ]
  },
  {
   "cell_type": "code",
   "execution_count": 8,
   "id": "030d7bb1-f076-4678-a728-b9de0262d3ec",
   "metadata": {},
   "outputs": [],
   "source": [
    "class Square(Rectangle):\n",
    "    def __init__(self, side):\n",
    "        self.width = side\n",
    "        self.height = side\n",
    "        \n",
    "    def set_side(self, side):\n",
    "        self.width = side\n",
    "        self.height = side\n",
    "    \n",
    "    def __str__(self):\n",
    "        return f'Square(side={self.width})'\n",
    "    \n",
    "    def set_width(self, side):\n",
    "        self.width = side\n",
    "        self.height = side\n",
    "        \n",
    "    def set_height(self, side):\n",
    "        self.height = side\n",
    "        self.width = side"
   ]
  },
  {
   "cell_type": "code",
   "execution_count": null,
   "id": "547c9924-5462-4a82-a842-fe0875a46443",
   "metadata": {},
   "outputs": [],
   "source": []
  }
 ],
 "metadata": {
  "kernelspec": {
   "display_name": "Python 3",
   "language": "python",
   "name": "python3"
  },
  "language_info": {
   "codemirror_mode": {
    "name": "ipython",
    "version": 3
   },
   "file_extension": ".py",
   "mimetype": "text/x-python",
   "name": "python",
   "nbconvert_exporter": "python",
   "pygments_lexer": "ipython3",
   "version": "3.9.0"
  }
 },
 "nbformat": 4,
 "nbformat_minor": 5
}
