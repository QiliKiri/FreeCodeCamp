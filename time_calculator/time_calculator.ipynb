{
 "cells": [
  {
   "cell_type": "code",
   "execution_count": 1,
   "id": "27eec821-25f9-457e-a2cb-06791936e426",
   "metadata": {},
   "outputs": [],
   "source": [
    "def preprocess(start, duration):\n",
    "    \n",
    "    hm, start_sy = start.split()\n",
    "    start_h, start_m = hm.split(':')\n",
    "    duration_h, duration_m = duration.split(':')\n",
    "        \n",
    "    return start_h, start_m, start_sy, duration_h, duration_m"
   ]
  },
  {
   "cell_type": "code",
   "execution_count": 2,
   "id": "d426abb0-b225-403d-a785-04dd1b342bb8",
   "metadata": {},
   "outputs": [],
   "source": [
    "def cal_min(start_m, duration_m):\n",
    "    \n",
    "    m_sum = int(start_m) + int(duration_m)\n",
    "    addition_h = 0\n",
    "    \n",
    "    if m_sum >= 60:\n",
    "        addition_h = int(m_sum/60)\n",
    "        \n",
    "    remain_m = m_sum%60\n",
    "    \n",
    "    if remain_m < 10:\n",
    "        return addition_h, '0' + str(remain_m)\n",
    "    else:\n",
    "        return addition_h, str(remain_m)"
   ]
  },
  {
   "cell_type": "code",
   "execution_count": 3,
   "id": "7b799d3c-a578-4627-b160-55e1509f6496",
   "metadata": {},
   "outputs": [],
   "source": [
    "def cal_h(start_h, duration_h, additon_h, start_sy):\n",
    "    \n",
    "    h_sum = int(start_h) + int(duration_h) + int(additon_h)\n",
    "    if start_sy == 'PM':\n",
    "        h_sum += 12\n",
    "        \n",
    "    addition_d = 0\n",
    "    \n",
    "    if h_sum >= 24:\n",
    "        addition_d = int(h_sum/24)\n",
    "        \n",
    "    remain_h = h_sum%24\n",
    "    \n",
    "    if remain_h == 0:\n",
    "        return addition_d, str(12), 'AM'\n",
    "    if remain_h < 12:\n",
    "        return addition_d, str(remain_h), 'AM'\n",
    "    elif remain_h == 12:\n",
    "        return addition_d, str(12), 'PM'\n",
    "    else:\n",
    "        return addition_d, str(remain_h-12), 'PM'"
   ]
  },
  {
   "cell_type": "code",
   "execution_count": 4,
   "id": "bef7effd-f90b-4371-820f-d1118243360d",
   "metadata": {},
   "outputs": [],
   "source": [
    "def cal_d(start_day, addition_d):\n",
    "    \n",
    "    allday = ['monday', 'tuesday', 'wednesday', 'thursday', 'friday', 'saturday', 'sunday']\n",
    "    start_day = str.lower(start_day)\n",
    "    new_day_i = (allday.index(start_day) + (addition_d%7)) % 7\n",
    "    \n",
    "    return allday[new_day_i].capitalize()"
   ]
  },
  {
   "cell_type": "code",
   "execution_count": 5,
   "id": "deb23b46-23bf-4ef4-b172-d7888f302a19",
   "metadata": {},
   "outputs": [],
   "source": [
    "def format_ans(addition_d, hours, minutes, symbol, new_day):\n",
    "    \n",
    "    formated = f'{hours}:{minutes} {symbol}'\n",
    "    if new_day:\n",
    "        formated += ',' + ' ' + f'{new_day}'\n",
    "    if addition_d == 1:\n",
    "        formated += ' ' + '(next day)'\n",
    "    elif addition_d > 1:\n",
    "        formated += ' ' + '(' + f'{addition_d}' + ' days later' + ')'\n",
    "        \n",
    "    return formated"
   ]
  },
  {
   "cell_type": "code",
   "execution_count": 6,
   "id": "a5f4e1bd-fc00-4acf-83c7-0f31cc9e4a97",
   "metadata": {},
   "outputs": [],
   "source": [
    "def add_time(start, duration, start_day=None):\n",
    "    \n",
    "    start_h, start_m, start_sy, duration_h, duration_m = preprocess(start, duration)\n",
    "    addition_h, minutes = cal_min(start_m, duration_m)\n",
    "    addition_d, hours, symbol = cal_h(start_h, duration_h, addition_h, start_sy)\n",
    "    \n",
    "    new_day = None\n",
    "    if start_day:\n",
    "        new_day = cal_d(start_day, addition_d)\n",
    "    \n",
    "    result = format_ans(addition_d, hours, minutes, symbol, new_day)\n",
    "    \n",
    "    return result"
   ]
  },
  {
   "cell_type": "code",
   "execution_count": 7,
   "id": "abb74c1b-147f-449e-997d-71aa6b78ad43",
   "metadata": {
    "tags": []
   },
   "outputs": [
    {
     "name": "stdout",
     "output_type": "stream",
     "text": [
      "6:10 PM\n"
     ]
    }
   ],
   "source": [
    "start, duration = \"3:00 PM\", \"3:10\"\n",
    "result = add_time(start, duration)\n",
    "print(result)"
   ]
  },
  {
   "cell_type": "code",
   "execution_count": 9,
   "id": "33a03bbb-0958-4ac5-b393-1f7b6730de76",
   "metadata": {},
   "outputs": [
    {
     "name": "stdout",
     "output_type": "stream",
     "text": [
      "12:04 AM, Wednesday (2 days later)\n"
     ]
    }
   ],
   "source": [
    "start, duration = \"11:59 PM\", \"24:05\"\n",
    "start_day = 'monday'\n",
    "result = add_time(start, duration, start_day)\n",
    "print(result)"
   ]
  },
  {
   "cell_type": "code",
   "execution_count": null,
   "id": "0ced7a24-9290-4b9b-aaac-bfd4a92b46aa",
   "metadata": {},
   "outputs": [],
   "source": []
  }
 ],
 "metadata": {
  "kernelspec": {
   "display_name": "Python 3",
   "language": "python",
   "name": "python3"
  },
  "language_info": {
   "codemirror_mode": {
    "name": "ipython",
    "version": 3
   },
   "file_extension": ".py",
   "mimetype": "text/x-python",
   "name": "python",
   "nbconvert_exporter": "python",
   "pygments_lexer": "ipython3",
   "version": "3.9.0"
  }
 },
 "nbformat": 4,
 "nbformat_minor": 5
}
