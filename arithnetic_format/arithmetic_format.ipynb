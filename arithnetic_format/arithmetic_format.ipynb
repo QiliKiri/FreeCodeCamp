{
 "cells": [
  {
   "cell_type": "code",
   "execution_count": 1,
   "id": "679a90f2-406d-4045-a41b-4a71ab808607",
   "metadata": {},
   "outputs": [],
   "source": [
    "def validation(first, oper, last):\n",
    "    if len(first) > 5:\n",
    "        return ('Error: Too many problems.')\n",
    "    \n",
    "    for op in oper:\n",
    "        if op not in ('+', '-'):\n",
    "            return ('Error: Operator must be \\'+\\' or \\'-\\'.')\n",
    "        \n",
    "    for num in first:\n",
    "        for digit in num:\n",
    "            if not digit.isnumeric():\n",
    "                return ('Error: Numbers must only contain digits.')\n",
    "        if len(num) > 4:\n",
    "            return ('Error: Numbers cannot be more than four digits.')\n",
    "    for num in last:\n",
    "        for digit in num:\n",
    "            if not digit.isnumeric():\n",
    "                return ('Error: Numbers must only contain digits.')  \n",
    "        if len(num) > 4:\n",
    "            return ('Error: Numbers cannot be more than four digits.')\n",
    "        \n",
    "    return None"
   ]
  },
  {
   "cell_type": "code",
   "execution_count": 2,
   "id": "835bc690-ef1e-447b-bce1-0d73d4943344",
   "metadata": {},
   "outputs": [],
   "source": [
    "def compute(first, oper, last):\n",
    "    result = None\n",
    "    if oper == '+':\n",
    "        result = int(first) + int(last)\n",
    "        return str(result)\n",
    "    elif oper == '-':\n",
    "        result = int(first) - int(last)\n",
    "        return str(result)"
   ]
  },
  {
   "cell_type": "code",
   "execution_count": 3,
   "id": "5f24c33c-f5a8-47b4-873c-e311982133f0",
   "metadata": {},
   "outputs": [],
   "source": [
    "def split_stuff(problems):\n",
    "    first = []\n",
    "    oper = []\n",
    "    last = []\n",
    "    for problem in problems:\n",
    "        a, b, c = problem.split()\n",
    "        first.append(a)\n",
    "        oper.append(b)\n",
    "        last.append(c)\n",
    "        \n",
    "    return first, oper, last"
   ]
  },
  {
   "cell_type": "code",
   "execution_count": 4,
   "id": "9447ae9a-6fa4-484f-a892-652995183937",
   "metadata": {},
   "outputs": [],
   "source": [
    "def format_noresult(first, oper, last):\n",
    "    first_line = []\n",
    "    second_line = []\n",
    "    dash_line = []\n",
    "    for n1, op, n2 in zip(first, oper, last):\n",
    "        space1 = 2 + max(len(n1), len(n2))\n",
    "        space2 = space1 - 1\n",
    "        first_line.append(f'{n1:>{space1}}')\n",
    "        second_line.append(f'{op}{n2:>{space2}}')\n",
    "        dash_line.append('-'*space1)\n",
    "    \n",
    "    line1 = '    '.join(first_line)\n",
    "    line2 = '    '.join(second_line)\n",
    "    line3 = '    '.join(dash_line)\n",
    "    \n",
    "    return line1, line2, line3"
   ]
  },
  {
   "cell_type": "code",
   "execution_count": 35,
   "id": "5cc9875f-f9e1-4071-9910-98ed4519f2d8",
   "metadata": {},
   "outputs": [],
   "source": [
    "def format_result(first, oper, last, result):\n",
    "    first_line = []\n",
    "    second_line = []\n",
    "    dash_line = []\n",
    "    result_line = []\n",
    "    for n1, op, n2, n3 in zip(first, oper, last, result):\n",
    "        space1 = 2 + max(len(n1), len(n2), len(n3))\n",
    "        if n3[0] == '-' and space1 == 2 + len(n3):\n",
    "            space1 -= 1\n",
    "        space2 = space1 - 1\n",
    "        first_line.append(f'{n1:>{space1}}')\n",
    "        second_line.append(f'{op}{n2:>{space2}}')\n",
    "        dash_line.append('-'*space1)\n",
    "        result_line.append(f'{n3:>{space1}}')\n",
    "    \n",
    "    line1 = '    '.join(first_line)\n",
    "    line2 = '    '.join(second_line)\n",
    "    line3 = '    '.join(dash_line)\n",
    "    line4 = '    '.join(result_line)\n",
    "    \n",
    "    return line1, line2, line3, line4"
   ]
  },
  {
   "cell_type": "code",
   "execution_count": 36,
   "id": "92c70d76-04e3-4a1f-97e6-a71df5695a4e",
   "metadata": {},
   "outputs": [],
   "source": [
    "def arithmetic_arranger(problems, flag=False):\n",
    "    first, oper, last = split_stuff(problems)\n",
    "        \n",
    "    error = validation(first, oper, last)\n",
    "    if error:\n",
    "        return error\n",
    "    \n",
    "    if flag:\n",
    "        result = []\n",
    "        for n1, op, n2 in zip(first, oper, last):\n",
    "            result.append(compute(n1, op, n2))\n",
    "    \n",
    "    if flag:\n",
    "        line1, line2, line3, line4 = format_result(first, oper, last, result)\n",
    "        ans = (f'{line1}' + '\\n' + f'{line2}' + '\\n' + f'{line3}' + '\\n' + f'{line4}')\n",
    "        return ans\n",
    "    else:\n",
    "        line1, line2, line3 = format_noresult(first, oper, last)\n",
    "        ans = (f'{line1}' + '\\n' + f'{line2}' + '\\n' + f'{line3}')\n",
    "        return ans"
   ]
  },
  {
   "cell_type": "code",
   "execution_count": 37,
   "id": "ccd49dba-77b3-4134-8bd0-869a44173c30",
   "metadata": {},
   "outputs": [
    {
     "name": "stdout",
     "output_type": "stream",
     "text": [
      "   32      3801      45      123\n",
      "+ 698    -    2    + 43    +  49\n",
      "-----    ------    ----    -----\n",
      "  730      3799      88      172\n"
     ]
    }
   ],
   "source": [
    "problems = [\"32 + 698\", \"3801 - 2\", \"45 + 43\", \"123 + 49\"]\n",
    "a = arithmetic_arranger(problems, True)\n",
    "print(a)"
   ]
  },
  {
   "cell_type": "code",
   "execution_count": 38,
   "id": "9e687c9c-fc08-403e-b1f9-24ea1442ff7d",
   "metadata": {},
   "outputs": [
    {
     "name": "stdout",
     "output_type": "stream",
     "text": [
      "   32         1      45      123\n",
      "- 698    - 3801    + 43    +  49\n",
      "-----    ------    ----    -----\n",
      " -666     -3800      88      172\n"
     ]
    }
   ],
   "source": [
    "problems = [\"32 - 698\", \"1 - 3801\", \"45 + 43\", \"123 + 49\"]\n",
    "a = arithmetic_arranger(problems, True)\n",
    "print(a)"
   ]
  },
  {
   "cell_type": "code",
   "execution_count": 39,
   "id": "ffeae344-a0d7-44cd-be37-b235f42c677c",
   "metadata": {},
   "outputs": [
    {
     "name": "stdout",
     "output_type": "stream",
     "text": [
      "   32         1      45      123\n",
      "- 698    - 3801    + 43    +  49\n",
      "-----    ------    ----    -----\n",
      " -666     -3800      88      172\n"
     ]
    }
   ],
   "source": [
    "expected = \"   32         1      45      123\\n- 698    - 3801    + 43    +  49\\n-----    ------    ----    -----\\n -666     -3800      88      172\"\n",
    "print(expected)"
   ]
  },
  {
   "cell_type": "code",
   "execution_count": 28,
   "id": "e93875ef-0724-4b7e-9720-2de47b1a8847",
   "metadata": {},
   "outputs": [
    {
     "data": {
      "text/plain": [
       "-123"
      ]
     },
     "execution_count": 28,
     "metadata": {},
     "output_type": "execute_result"
    }
   ],
   "source": [
    "int('-123')"
   ]
  },
  {
   "cell_type": "code",
   "execution_count": 29,
   "id": "048a97ed-532a-468e-b36d-2f7fcad8524e",
   "metadata": {},
   "outputs": [
    {
     "data": {
      "text/plain": [
       "'-'"
      ]
     },
     "execution_count": 29,
     "metadata": {},
     "output_type": "execute_result"
    }
   ],
   "source": [
    "a = '-123'\n",
    "a[0]"
   ]
  },
  {
   "cell_type": "code",
   "execution_count": null,
   "id": "e50fd840-81fb-445c-86d4-89b3d4601833",
   "metadata": {},
   "outputs": [],
   "source": []
  }
 ],
 "metadata": {
  "kernelspec": {
   "display_name": "Python 3",
   "language": "python",
   "name": "python3"
  },
  "language_info": {
   "codemirror_mode": {
    "name": "ipython",
    "version": 3
   },
   "file_extension": ".py",
   "mimetype": "text/x-python",
   "name": "python",
   "nbconvert_exporter": "python",
   "pygments_lexer": "ipython3",
   "version": "3.9.0"
  }
 },
 "nbformat": 4,
 "nbformat_minor": 5
}
