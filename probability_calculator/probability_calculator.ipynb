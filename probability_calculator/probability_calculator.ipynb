{
 "cells": [
  {
   "cell_type": "code",
   "execution_count": 22,
   "id": "cb155b3e-a55e-4b4a-8e90-83ed03142da5",
   "metadata": {},
   "outputs": [],
   "source": [
    "import random\n",
    "import copy"
   ]
  },
  {
   "cell_type": "code",
   "execution_count": 66,
   "id": "a2022cba-095a-4ff8-80b2-528fd4cebede",
   "metadata": {},
   "outputs": [],
   "source": [
    "class Hat():\n",
    "    def __init__(self, **kwargs):\n",
    "        self.contents = []\n",
    "        for key, value in kwargs.items():\n",
    "            for _ in range(value):\n",
    "                self.contents.append(key)\n",
    "                \n",
    "    def draw(self, nums):\n",
    "        if nums > len(self.contents):\n",
    "            drawn = self.contents\n",
    "            self.contents = []\n",
    "            return drawn\n",
    "        else:\n",
    "            drawn = random.sample(self.contents, nums)\n",
    "            for element in drawn:\n",
    "                self.contents.remove(element)\n",
    "            return drawn"
   ]
  },
  {
   "cell_type": "code",
   "execution_count": 67,
   "id": "5dbbd403-99c7-4dd6-8224-edc4d490bf4f",
   "metadata": {},
   "outputs": [],
   "source": [
    "def experiment(hat, expected_balls, num_balls_drawn, num_experiments):\n",
    "    m = 0\n",
    "    for _ in range(num_experiments):\n",
    "        h = copy.deepcopy(hat)\n",
    "        drawn_dict = {}\n",
    "        drawn_ball = h.draw(num_balls_drawn)\n",
    "        for ball in drawn_ball:\n",
    "            try:\n",
    "                drawn_dict[ball] += 1\n",
    "            except:\n",
    "                drawn_dict[ball] = 1\n",
    "\n",
    "        m += 1\n",
    "        for key in expected_balls.keys():\n",
    "            try:\n",
    "                if drawn_dict[key] < expected_balls[key]:\n",
    "                    m -= 1\n",
    "                    break\n",
    "            except:\n",
    "                m -= 1\n",
    "                break\n",
    "                \n",
    "    return m/num_experiments\n",
    "    "
   ]
  },
  {
   "cell_type": "code",
   "execution_count": 68,
   "id": "738cfdae-19da-483b-9eed-95ae1241f9e7",
   "metadata": {},
   "outputs": [],
   "source": [
    "hat = Hat(yellow=5,red=1,green=3,blue=9,test=1)\n",
    "probability = experiment(hat=hat, \n",
    "                         expected_balls={\"yellow\":2,\"blue\":3,\"test\":1}, \n",
    "                         num_balls_drawn=20, \n",
    "                         num_experiments=100)"
   ]
  },
  {
   "cell_type": "code",
   "execution_count": 70,
   "id": "6fec663c-b466-4f91-a89d-57336704d2c7",
   "metadata": {},
   "outputs": [
    {
     "data": {
      "text/plain": [
       "1.0"
      ]
     },
     "execution_count": 70,
     "metadata": {},
     "output_type": "execute_result"
    }
   ],
   "source": [
    "probability"
   ]
  },
  {
   "cell_type": "code",
   "execution_count": null,
   "id": "1271bd82-eb0a-4eaa-805a-41ce677cc84f",
   "metadata": {},
   "outputs": [],
   "source": []
  }
 ],
 "metadata": {
  "kernelspec": {
   "display_name": "Python 3",
   "language": "python",
   "name": "python3"
  },
  "language_info": {
   "codemirror_mode": {
    "name": "ipython",
    "version": 3
   },
   "file_extension": ".py",
   "mimetype": "text/x-python",
   "name": "python",
   "nbconvert_exporter": "python",
   "pygments_lexer": "ipython3",
   "version": "3.9.0"
  }
 },
 "nbformat": 4,
 "nbformat_minor": 5
}
